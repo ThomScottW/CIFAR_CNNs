{
 "cells": [
  {
   "cell_type": "code",
   "execution_count": 2,
   "metadata": {},
   "outputs": [],
   "source": [
    "import torch\n",
    "import torch.nn as nn\n",
    "import torchvision\n",
    "import torchvision.transforms as transforms\n",
    "import time"
   ]
  },
  {
   "attachments": {},
   "cell_type": "markdown",
   "metadata": {},
   "source": [
    "#### Setup Device"
   ]
  },
  {
   "cell_type": "code",
   "execution_count": 3,
   "metadata": {},
   "outputs": [
    {
     "name": "stdout",
     "output_type": "stream",
     "text": [
      "mps\n"
     ]
    }
   ],
   "source": [
    "if torch.backends.mps.is_available():\n",
    "    device = \"mps\"\n",
    "elif torch.cuda.is_available():\n",
    "    device = \"cuda\"\n",
    "else:\n",
    "    device = \"cpu\"\n",
    "\n",
    "print(device)"
   ]
  },
  {
   "attachments": {},
   "cell_type": "markdown",
   "metadata": {},
   "source": [
    "#### Load and Normalize CIFAR-10 Data"
   ]
  },
  {
   "cell_type": "code",
   "execution_count": 4,
   "metadata": {},
   "outputs": [
    {
     "name": "stdout",
     "output_type": "stream",
     "text": [
      "Files already downloaded and verified\n",
      "Files already downloaded and verified\n"
     ]
    }
   ],
   "source": [
    "batch_size = 256\n",
    "\n",
    "mean = torch.tensor([0.4914, 0.4822, 0.4465])\n",
    "std = torch.tensor([0.2009, 0.2009, 0.2009])\n",
    "transform = transforms.Compose([\n",
    "    transforms.ToTensor(), \n",
    "    transforms.Normalize(mean = mean, std = std)])\n",
    "cifar_train_data = torchvision.datasets.CIFAR10('./data', train=True, download=True, transform=transform)\n",
    "cifar_test_data = torchvision.datasets.CIFAR10('./data', train=False, download=True, transform=transform)\n",
    "\n",
    "cifar_train_dl = torch.utils.data.DataLoader(cifar_train_data, batch_size=batch_size, shuffle=True)\n",
    "cifar_test_dl = torch.utils.data.DataLoader(cifar_test_data, batch_size=batch_size)"
   ]
  },
  {
   "attachments": {},
   "cell_type": "markdown",
   "metadata": {},
   "source": [
    "## Define Convolutional Neural Networks"
   ]
  },
  {
   "attachments": {},
   "cell_type": "markdown",
   "metadata": {},
   "source": [
    "### Low-Tier CNN"
   ]
  },
  {
   "cell_type": "code",
   "execution_count": 5,
   "metadata": {},
   "outputs": [],
   "source": [
    "class CIFAR_Basic_CNN(nn.Module):\n",
    "    def __init__(self):\n",
    "        super().__init__()\n",
    "        self.features = nn.Sequential(\n",
    "            nn.Conv2d(in_channels=3, out_channels=32, kernel_size=(3, 3), stride=1, padding=1),\n",
    "            nn.ReLU(),\n",
    "            nn.Conv2d(in_channels=32, out_channels=64, kernel_size=(3, 3), stride=2, padding=1),\n",
    "            nn.ReLU(),\n",
    "            nn.Flatten()\n",
    "        )\n",
    "        self.classifier = nn.Linear(in_features=64*16*16, out_features=10)\n",
    "    \n",
    "    def forward(self, x):\n",
    "        x = self.features(x)\n",
    "        x = self.classifier(x)\n",
    "        return x"
   ]
  },
  {
   "attachments": {},
   "cell_type": "markdown",
   "metadata": {},
   "source": [
    "### Mid-Tier CNN "
   ]
  },
  {
   "cell_type": "code",
   "execution_count": 6,
   "metadata": {},
   "outputs": [],
   "source": [
    "class CIFAR_Medium_CNN(nn.Module):\n",
    "    def __init__(self):\n",
    "        super().__init__()\n",
    "        self.features = nn.Sequential(\n",
    "            nn.Conv2d(in_channels=3, out_channels=32, kernel_size=(3, 3), stride=1, padding=1),\n",
    "            nn.ReLU(),\n",
    "            nn.Conv2d(in_channels=32, out_channels=64, kernel_size=(3, 3), stride=1, padding=1),\n",
    "            nn.ReLU(),\n",
    "            nn.Conv2d(in_channels=64, out_channels=128, kernel_size=(3, 3), stride=2, padding=1),\n",
    "            nn.ReLU(),\n",
    "            nn.Conv2d(in_channels=128, out_channels=256, kernel_size=(3, 3), stride=2, padding=1),\n",
    "            nn.ReLU(),\n",
    "            nn.Flatten()\n",
    "        )\n",
    "        self.classifier = nn.Sequential(\n",
    "            nn.Linear(in_features=256*8*8, out_features=256),\n",
    "            nn.ReLU(),\n",
    "            nn.Linear(in_features=256, out_features=10)\n",
    "        )\n",
    "    def forward(self, x):\n",
    "        x = self.features(x)\n",
    "        x = self.classifier(x)\n",
    "        return x"
   ]
  },
  {
   "attachments": {},
   "cell_type": "markdown",
   "metadata": {},
   "source": [
    "#### Mid-Tier CNN (with Batch Norm)"
   ]
  },
  {
   "cell_type": "code",
   "execution_count": 7,
   "metadata": {},
   "outputs": [],
   "source": [
    "class CIFAR_Medium_BatchNorm_CNN(nn.Module):\n",
    "    def __init__(self):\n",
    "        super().__init__()\n",
    "        self.features = nn.Sequential(\n",
    "            nn.Conv2d(in_channels=3, out_channels=32, kernel_size=(3, 3), stride=1, padding=1),\n",
    "            nn.BatchNorm2d(32),\n",
    "            nn.ReLU(),\n",
    "            nn.Conv2d(in_channels=32, out_channels=64, kernel_size=(3, 3), stride=1, padding=1),\n",
    "            nn.BatchNorm2d(64),\n",
    "            nn.ReLU(),\n",
    "            nn.Conv2d(in_channels=64, out_channels=128, kernel_size=(3, 3), stride=2, padding=1),\n",
    "            nn.BatchNorm2d(128),\n",
    "            nn.ReLU(),\n",
    "            nn.Conv2d(in_channels=128, out_channels=256, kernel_size=(3, 3), stride=2, padding=1),\n",
    "            nn.BatchNorm2d(256),\n",
    "            nn.ReLU(),\n",
    "            nn.Flatten()\n",
    "        )\n",
    "        self.classifier = nn.Sequential(\n",
    "            nn.Linear(in_features=256*8*8, out_features=256),\n",
    "            nn.ReLU(),\n",
    "            nn.Linear(in_features=256, out_features=10)\n",
    "        )\n",
    "    def forward(self, x):\n",
    "        x = self.features(x)\n",
    "        x = self.classifier(x)\n",
    "        return x"
   ]
  },
  {
   "attachments": {},
   "cell_type": "markdown",
   "metadata": {},
   "source": [
    "#### Mid-Tier CNN (with batch norm + more linear layers)"
   ]
  },
  {
   "cell_type": "code",
   "execution_count": 8,
   "metadata": {},
   "outputs": [],
   "source": [
    "class CIFAR_Medium_BatchNorm_LinearPlus_CNN(nn.Module):\n",
    "    def __init__(self):\n",
    "        super().__init__()\n",
    "        self.features = nn.Sequential(\n",
    "            nn.Conv2d(in_channels=3, out_channels=32, kernel_size=(3, 3), stride=1, padding=1),\n",
    "            nn.BatchNorm2d(32),\n",
    "            nn.ReLU(),\n",
    "            nn.Conv2d(in_channels=32, out_channels=64, kernel_size=(3, 3), stride=1, padding=1),\n",
    "            nn.BatchNorm2d(64),\n",
    "            nn.ReLU(),\n",
    "            nn.Conv2d(in_channels=64, out_channels=128, kernel_size=(3, 3), stride=2, padding=1),\n",
    "            nn.BatchNorm2d(128),\n",
    "            nn.ReLU(),\n",
    "            nn.Conv2d(in_channels=128, out_channels=256, kernel_size=(3, 3), stride=2, padding=1),\n",
    "            nn.BatchNorm2d(256),\n",
    "            nn.ReLU(),\n",
    "            nn.Flatten()\n",
    "        )\n",
    "        self.classifier = nn.Sequential(\n",
    "            nn.Linear(in_features=256*8*8, out_features=512),\n",
    "            nn.ReLU(),\n",
    "            nn.Linear(in_features=512, out_features=256),\n",
    "            nn.ReLU(),\n",
    "            nn.Linear(in_features=256, out_features=128),\n",
    "            nn.ReLU(),\n",
    "            nn.Linear(in_features=128, out_features=10)\n",
    "        )\n",
    "    def forward(self, x):\n",
    "        x = self.features(x)\n",
    "        x = self.classifier(x)\n",
    "        return x"
   ]
  },
  {
   "attachments": {},
   "cell_type": "markdown",
   "metadata": {},
   "source": [
    "#### Dataset Distillation ConvNet"
   ]
  },
  {
   "cell_type": "code",
   "execution_count": 9,
   "metadata": {},
   "outputs": [],
   "source": [
    "class ConvNet(nn.Module):\n",
    "    def __init__(self):\n",
    "        super().__init__()\n",
    "        self.features = nn.Sequential(\n",
    "            nn.Conv2d(in_channels=3, out_channels=32, kernel_size=3, stride=1, padding=3), #32x32 -> 36x36\n",
    "            nn.GroupNorm(4, 32, eps=1e-05, affine=True),\n",
    "            nn.ReLU(),\n",
    "            nn.AvgPool2d(kernel_size=2, stride=2, padding=0), #36x36 -> 18x18\n",
    "            nn.Conv2d(in_channels=32, out_channels=64, kernel_size=3, stride=1, padding=1),\n",
    "            nn.GroupNorm(4, 64, eps=1e-05, affine=True),\n",
    "            nn.ReLU(),\n",
    "            nn.AvgPool2d(kernel_size=2, stride=2, padding=0), #18x18 -> 9x9\n",
    "            nn.Conv2d(in_channels=64, out_channels=128, kernel_size=3, stride=1, padding=1),\n",
    "            nn.GroupNorm(4, 128, eps=1e-05, affine=True),\n",
    "            nn.ReLU(),\n",
    "            nn.AvgPool2d(kernel_size=2, stride=2, padding=0), #9x9 -> 4x4\n",
    "            nn.Conv2d(in_channels=128, out_channels=256, kernel_size=3, stride=1, padding=1),\n",
    "            nn.Conv2d(in_channels=256, out_channels=512, kernel_size=3, stride=1, padding=1),\n",
    "            nn.GroupNorm(2, 512, eps=1e-05, affine=True),\n",
    "            nn.ReLU(),\n",
    "            nn.AvgPool2d(kernel_size=2, stride=2, padding=0) #4x4 -> #2x2\n",
    "        )\n",
    "        self.classifier = nn.Linear(in_features=128*4*4, out_features=10, bias=True)\n",
    "\n",
    "    def forward(self, x):\n",
    "        x = self.features(x)\n",
    "        x = x.view(x.shape[0], -1)\n",
    "        x = self.classifier(x)\n",
    "        return x"
   ]
  },
  {
   "cell_type": "code",
   "execution_count": 10,
   "metadata": {},
   "outputs": [],
   "source": [
    "class ConvNet_Simple(nn.Module):\n",
    "    def __init__(self):\n",
    "        super().__init__()\n",
    "        self.features = nn.Sequential(\n",
    "            nn.Conv2d(in_channels=3, out_channels=128, kernel_size=3, stride=1, padding=3),\n",
    "            nn.GroupNorm(128, 128, eps=1e-05, affine=True),\n",
    "            nn.ReLU(),\n",
    "            nn.AvgPool2d(kernel_size=2, stride=2, padding=0),\n",
    "            nn.Conv2d(in_channels=128, out_channels=128, kernel_size=3, stride=1, padding=1),\n",
    "            nn.GroupNorm(128, 128, eps=1e-05, affine=True),\n",
    "            nn.ReLU(),\n",
    "            nn.AvgPool2d(kernel_size=2, stride=2, padding=0),\n",
    "            nn.Conv2d(in_channels=128, out_channels=128, kernel_size=3, stride=1, padding=1),\n",
    "            nn.GroupNorm(128, 128, eps=1e-05, affine=True),\n",
    "            nn.ReLU(),\n",
    "            nn.AvgPool2d(kernel_size=2, stride=2, padding=0)\n",
    "        )\n",
    "        self.classifier = nn.Linear(in_features=2048, out_features=10, bias=True)\n",
    "\n",
    "    def forward(self, x):\n",
    "            x = self.features(x)\n",
    "            x = x.view(x.shape[0], -1)\n",
    "            x = self.classifier(x)\n",
    "            return x"
   ]
  },
  {
   "attachments": {},
   "cell_type": "markdown",
   "metadata": {},
   "source": [
    "### High-Tier CNN"
   ]
  },
  {
   "cell_type": "code",
   "execution_count": 11,
   "metadata": {},
   "outputs": [],
   "source": [
    "class CIFAR_High_CNN(nn.Module):\n",
    "    def __init__(self):\n",
    "        super().__init__()\n",
    "        self.features = nn.Sequential(\n",
    "            nn.Conv2d(in_channels=3, out_channels=32, kernel_size=(3, 3), stride=1, padding=1),\n",
    "            nn.BatchNorm2d(32),\n",
    "            nn.ReLU(),\n",
    "            nn.Conv2d(in_channels=32, out_channels=64, kernel_size=(3, 3), stride=1, padding=1),\n",
    "            nn.BatchNorm2d(64),\n",
    "            nn.ReLU(),\n",
    "            nn.Conv2d(in_channels=64, out_channels=128, kernel_size=(3, 3), stride=2, padding=1),\n",
    "            nn.BatchNorm2d(128),\n",
    "            nn.ReLU(),\n",
    "            nn.Conv2d(in_channels=128, out_channels=256, kernel_size=(3, 3), stride=2, padding=1),\n",
    "            nn.BatchNorm2d(256),\n",
    "            nn.ReLU(),\n",
    "            nn.Flatten()\n",
    "        )\n",
    "        self.classifier = nn.Sequential(\n",
    "            nn.Linear(in_features=256*8*8, out_features=512),\n",
    "            nn.ReLU(),\n",
    "            nn.Linear(in_features=512, out_features=256),\n",
    "            nn.ReLU(),\n",
    "            nn.Linear(in_features=256, out_features=128),\n",
    "            nn.ReLU(),\n",
    "            nn.Linear(in_features=128, out_features=64),\n",
    "            nn.ReLU(),\n",
    "            nn.Linear(in_features=64, out_features=10)\n",
    "        )\n",
    "    def forward(self, x):\n",
    "        x = self.features(x)\n",
    "        x = self.classifier(x)\n",
    "        return x"
   ]
  },
  {
   "attachments": {},
   "cell_type": "markdown",
   "metadata": {},
   "source": [
    "## Cosine Annealing Experiment"
   ]
  },
  {
   "cell_type": "code",
   "execution_count": 12,
   "metadata": {},
   "outputs": [
    {
     "data": {
      "text/plain": [
       "[<matplotlib.lines.Line2D at 0x15ff998a0>]"
      ]
     },
     "execution_count": 12,
     "metadata": {},
     "output_type": "execute_result"
    },
    {
     "data": {
      "image/png": "[encoded data removed]",
      "text/plain": [
       "<Figure size 432x288 with 1 Axes>"
      ]
     },
     "metadata": {
      "needs_background": "light"
     },
     "output_type": "display_data"
    }
   ],
   "source": [
    "import matplotlib.pyplot as plt\n",
    "\n",
    "model = torch.nn.Linear(in_features=10, out_features=10)\n",
    "num_epochs=100\n",
    "lrs = [0] * num_epochs\n",
    "optimizer = torch.optim.Adam(model.parameters(), lr=0.01)\n",
    "scheduler = torch.optim.lr_scheduler.CosineAnnealingLR(optimizer, T_max=50)\n",
    "loss_function = nn.CrossEntropyLoss()\n",
    "\n",
    "for epoch in range(num_epochs):\n",
    "    outputs = model(torch.randn(10, 10))\n",
    "    loss = loss_function(outputs, torch.randint(0, 10, size=(10,)))\n",
    "\n",
    "    optimizer.zero_grad()\n",
    "    loss.backward()\n",
    "    optimizer.step()\n",
    "    scheduler.step()\n",
    "\n",
    "    lrs[epoch] = scheduler.get_last_lr()[0]\n",
    "\n",
    "\n",
    "plt.plot(lrs)"
   ]
  },
  {
   "attachments": {},
   "cell_type": "markdown",
   "metadata": {},
   "source": [
    "## Train and test functions"
   ]
  },
  {
   "cell_type": "code",
   "execution_count": 32,
   "metadata": {},
   "outputs": [],
   "source": [
    "from tqdm import tqdm\n",
    "\n",
    "def train(model, num_epochs, lr, train_dl, test_dl, optimizer=\"SGD\", scheduler=False, verbose=False, patience=10):\n",
    "    model.to(device)\n",
    "\n",
    "    if optimizer == \"SGD\":\n",
    "        opt = torch.optim.SGD(model.parameters(), lr=lr, momentum=0.9)\n",
    "    else:\n",
    "        opt = torch.optim.Adam(model.parameters(), lr=lr)\n",
    "\n",
    "    if scheduler:\n",
    "        scheduler = torch.optim.lr_scheduler.CosineAnnealingLR(opt, T_max=num_epochs)\n",
    "\n",
    "    # Classification tasks should use cross entropy\n",
    "    loss_function = nn.CrossEntropyLoss()\n",
    "\n",
    "    test_accuracies = []\n",
    "    train_accuracies = []\n",
    "    best_test_accuracy = 0\n",
    "    best_model_state_dict = None\n",
    "    epochs_until_early_stop = patience\n",
    "\n",
    "    train_start_time = time.time()\n",
    "    epoch_progress_bar = tqdm(range(1, num_epochs + 1), desc=\"Training: \", unit=\"epoch\")\n",
    "    for epoch in epoch_progress_bar:\n",
    "        model.train()\n",
    "        epoch_start_time = time.time()\n",
    "\n",
    "        for X, y in train_dl:\n",
    "            X, y = X.to(device), y.to(device)\n",
    "\n",
    "            predictions = model(X)\n",
    "            loss = loss_function(predictions, y)\n",
    "\n",
    "            opt.zero_grad()\n",
    "            loss.backward()\n",
    "            opt.step()\n",
    "        \n",
    "        if scheduler:\n",
    "            scheduler.step()\n",
    "        \n",
    "        train_accuracy = test(model, train_dl)\n",
    "        test_accuracy = test(model, test_dl)\n",
    "        train_accuracies.append(train_accuracy)\n",
    "        test_accuracies.append(test_accuracy)\n",
    "\n",
    "        epoch_total_time = time.time() - epoch_start_time\n",
    "        if verbose and epoch % 10 == 0:\n",
    "            print(f\"Epoch {epoch:>03} took {epoch_total_time:.2f}s Test Acc: {test_accuracy:.4f}\")\n",
    "\n",
    "        if test_accuracy > best_test_accuracy:\n",
    "            best_test_accuracy = test_accuracy\n",
    "            best_model_state_dict = model.state_dict()\n",
    "            epochs_until_early_stop = patience\n",
    "        else:\n",
    "            epochs_until_early_stop -= 1\n",
    "            if epochs_until_early_stop == 0:\n",
    "                print('Model failing to improve on test data. Stopping early.')\n",
    "                model.load_state_dict(best_model_state_dict)\n",
    "                break\n",
    "    \n",
    "    total_train_time = time.time() - train_start_time\n",
    "    final_test_accuracy = test(model, test_dl)\n",
    "    \n",
    "    print(f'Model achieved highest test accuracy of {final_test_accuracy:.4f}')\n",
    "    print(f'Training took {total_train_time:.2f} seconds.')\n",
    "\n",
    "    return train_accuracies, test_accuracies\n",
    "\n",
    "def test(model, test_dl):\n",
    "    model.to(device)\n",
    "    model.eval()\n",
    "\n",
    "    correct_predictions = 0\n",
    "    total_predictions = 0\n",
    "    \n",
    "    # Testing, so no gradient computation is needed\n",
    "    with torch.no_grad():\n",
    "        for image, label in test_dl:\n",
    "            image, label = image.to(device), label.to(device)\n",
    "\n",
    "            predictions = model(image)\n",
    "            _, predictions = torch.max(predictions, 1)\n",
    "\n",
    "            correct_predictions += (predictions==label).sum().item()\n",
    "            total_predictions += predictions.shape[0]\n",
    "    \n",
    "    return correct_predictions / total_predictions"
   ]
  },
  {
   "cell_type": "code",
   "execution_count": 162,
   "metadata": {},
   "outputs": [],
   "source": [
    "models = [\n",
    "    CIFAR_Basic_CNN,\n",
    "    CIFAR_Medium_CNN,\n",
    "    CIFAR_Medium_BatchNorm_CNN,\n",
    "    CIFAR_Medium_BatchNorm_LinearPlus_CNN,\n",
    "    CIFAR_High_CNN,\n",
    "    ConvNet,\n",
    "    ConvNet_Simple\n",
    "]\n",
    "\n",
    "model_names = [\n",
    "    \"CIFAR_Basic_CNN\",\n",
    "    \"CIFAR_Medium_CNN\",\n",
    "    \"CIFAR_Medium_BatchNorm_CNN\",\n",
    "    \"CIFAR_Medium_BatchNorm_LinearPlus_CNN\",\n",
    "    \"CIFAR_High_CNN\",\n",
    "    \"ConvNet\",\n",
    "    \"ConvNet_Simple\"\n",
    "]"
   ]
  },
  {
   "cell_type": "code",
   "execution_count": null,
   "metadata": {},
   "outputs": [],
   "source": [
    "for i, model in enumerate(models):\n",
    "    print(f\"*****Training for Model {model_names[i]}*****\")\n",
    "    print('Scheduler + SGD:')\n",
    "    train(model(), 150, 0.05, cifar_train_dl, cifar_test_dl, scheduler=True)\n",
    "    print('\\n')\n",
    "    print('No Scheduler + SGD')\n",
    "    train(model(), 150, 0.05, cifar_train_dl, cifar_test_dl, scheduler=False)\n",
    "    print('\\n')\n",
    "    print('Scheduler + Adam:')\n",
    "    train(model(), 150, 0.01, cifar_train_dl, cifar_test_dl, optimizer=\"Adam\", scheduler=True)\n",
    "    print('\\n')\n",
    "    print('No Scheduler + Adam')\n",
    "    train(model(), 150, 0.01, cifar_train_dl, cifar_test_dl, optimizer=\"Adam\", scheduler=False)\n",
    "    print('\\n')\n",
    "    print('Scheduler + Adam, lr=0.01:')\n",
    "    train(model(), 150, 0.001, cifar_train_dl, cifar_test_dl, optimizer=\"Adam\", scheduler=True)\n",
    "    print('\\n')\n",
    "    print('No Scheduler + Adam, lr=0.01')\n",
    "    train(model(), 150, 0.001, cifar_train_dl, cifar_test_dl, optimizer=\"Adam\", scheduler=False)\n",
    "    print('\\n')"
   ]
  },
  {
   "cell_type": "code",
   "execution_count": 28,
   "metadata": {},
   "outputs": [
    {
     "name": "stderr",
     "output_type": "stream",
     "text": [
      "Training: 100%|██████████| 20/20 [02:23<00:00,  7.18s/epoch]\n"
     ]
    },
    {
     "name": "stdout",
     "output_type": "stream",
     "text": [
      "Model achieved final test accuracy of 0.6191\n",
      "Training took 143.56 seconds.\n"
     ]
    }
   ],
   "source": [
    "tr_accs, test_accs = train(CIFAR_Basic_CNN(), 20, 0.05, cifar_train_dl, cifar_test_dl, scheduler=True)"
   ]
  },
  {
   "cell_type": "code",
   "execution_count": 29,
   "metadata": {},
   "outputs": [
    {
     "data": {
      "image/png": "[encoded data removed]",
      "text/plain": [
       "<Figure size 432x288 with 1 Axes>"
      ]
     },
     "metadata": {
      "needs_background": "light"
     },
     "output_type": "display_data"
    }
   ],
   "source": [
    "plt.plot(tr_accs, c=\"green\")\n",
    "plt.plot(test_accs, c=\"red\")\n",
    "plt.show()"
   ]
  },
  {
   "cell_type": "code",
   "execution_count": null,
   "metadata": {},
   "outputs": [],
   "source": [
    "train(CIFAR_Basic_CNN(), 20, 0.05, cifar_train_dl, cifar_test_dl, scheduler=False)"
   ]
  },
  {
   "cell_type": "code",
   "execution_count": null,
   "metadata": {},
   "outputs": [],
   "source": [
    "train(CIFAR_Medium_CNN(), 20, 0.05, cifar_train_dl, cifar_test_dl, scheduler=True)"
   ]
  },
  {
   "cell_type": "code",
   "execution_count": null,
   "metadata": {},
   "outputs": [],
   "source": [
    "train(CIFAR_Medium_CNN(), 20, 0.05, cifar_train_dl, cifar_test_dl, scheduler=False)"
   ]
  },
  {
   "cell_type": "code",
   "execution_count": 31,
   "metadata": {},
   "outputs": [
    {
     "name": "stderr",
     "output_type": "stream",
     "text": [
      "Training:  40%|████      | 12/30 [07:20<11:00, 36.67s/epoch]\n"
     ]
    },
    {
     "ename": "KeyboardInterrupt",
     "evalue": "",
     "output_type": "error",
     "traceback": [
      "\u001b[0;31m---------------------------------------------------------------------------\u001b[0m",
      "\u001b[0;31mKeyboardInterrupt\u001b[0m                         Traceback (most recent call last)",
      "\u001b[1;32m/Users/scotttw/UCLA/CS 260C Deep Learning/CIFAR_CNNs/Experiments.ipynb Cell 31\u001b[0m in \u001b[0;36m<cell line: 1>\u001b[0;34m()\u001b[0m\n\u001b[0;32m----> <a href='vscode-notebook-cell:/Users/scotttw/UCLA/CS%20260C%20Deep%20Learning/CIFAR_CNNs/Experiments.ipynb#X41sZmlsZQ%3D%3D?line=0'>1</a>\u001b[0m train_accs, test_accs \u001b[39m=\u001b[39m train(CIFAR_Medium_BatchNorm_CNN(), \u001b[39m30\u001b[39;49m, \u001b[39m0.05\u001b[39;49m, cifar_train_dl, cifar_test_dl, scheduler\u001b[39m=\u001b[39;49m\u001b[39mTrue\u001b[39;49;00m)\n\u001b[1;32m      <a href='vscode-notebook-cell:/Users/scotttw/UCLA/CS%20260C%20Deep%20Learning/CIFAR_CNNs/Experiments.ipynb#X41sZmlsZQ%3D%3D?line=1'>2</a>\u001b[0m plt\u001b[39m.\u001b[39mplot(train_accs, c\u001b[39m=\u001b[39m\u001b[39m'\u001b[39m\u001b[39mgreen\u001b[39m\u001b[39m'\u001b[39m)\n\u001b[1;32m      <a href='vscode-notebook-cell:/Users/scotttw/UCLA/CS%20260C%20Deep%20Learning/CIFAR_CNNs/Experiments.ipynb#X41sZmlsZQ%3D%3D?line=2'>3</a>\u001b[0m plt\u001b[39m.\u001b[39mplot(test_accs, c\u001b[39m=\u001b[39m\u001b[39m'\u001b[39m\u001b[39mred\u001b[39m\u001b[39m'\u001b[39m)\n",
      "\u001b[1;32m/Users/scotttw/UCLA/CS 260C Deep Learning/CIFAR_CNNs/Experiments.ipynb Cell 31\u001b[0m in \u001b[0;36mtrain\u001b[0;34m(model, num_epochs, lr, train_dl, test_dl, optimizer, scheduler, verbose, early_stop)\u001b[0m\n\u001b[1;32m     <a href='vscode-notebook-cell:/Users/scotttw/UCLA/CS%20260C%20Deep%20Learning/CIFAR_CNNs/Experiments.ipynb#X41sZmlsZQ%3D%3D?line=36'>37</a>\u001b[0m \u001b[39mif\u001b[39;00m scheduler:\n\u001b[1;32m     <a href='vscode-notebook-cell:/Users/scotttw/UCLA/CS%20260C%20Deep%20Learning/CIFAR_CNNs/Experiments.ipynb#X41sZmlsZQ%3D%3D?line=37'>38</a>\u001b[0m     scheduler\u001b[39m.\u001b[39mstep()\n\u001b[0;32m---> <a href='vscode-notebook-cell:/Users/scotttw/UCLA/CS%20260C%20Deep%20Learning/CIFAR_CNNs/Experiments.ipynb#X41sZmlsZQ%3D%3D?line=39'>40</a>\u001b[0m train_accuracy \u001b[39m=\u001b[39m test(model, train_dl)\n\u001b[1;32m     <a href='vscode-notebook-cell:/Users/scotttw/UCLA/CS%20260C%20Deep%20Learning/CIFAR_CNNs/Experiments.ipynb#X41sZmlsZQ%3D%3D?line=40'>41</a>\u001b[0m test_accuracy \u001b[39m=\u001b[39m test(model, test_dl)\n\u001b[1;32m     <a href='vscode-notebook-cell:/Users/scotttw/UCLA/CS%20260C%20Deep%20Learning/CIFAR_CNNs/Experiments.ipynb#X41sZmlsZQ%3D%3D?line=41'>42</a>\u001b[0m train_accuracies\u001b[39m.\u001b[39mappend(train_accuracy)\n",
      "\u001b[1;32m/Users/scotttw/UCLA/CS 260C Deep Learning/CIFAR_CNNs/Experiments.ipynb Cell 31\u001b[0m in \u001b[0;36mtest\u001b[0;34m(model, test_dl)\u001b[0m\n\u001b[1;32m     <a href='vscode-notebook-cell:/Users/scotttw/UCLA/CS%20260C%20Deep%20Learning/CIFAR_CNNs/Experiments.ipynb#X41sZmlsZQ%3D%3D?line=68'>69</a>\u001b[0m         predictions \u001b[39m=\u001b[39m model(image)\n\u001b[1;32m     <a href='vscode-notebook-cell:/Users/scotttw/UCLA/CS%20260C%20Deep%20Learning/CIFAR_CNNs/Experiments.ipynb#X41sZmlsZQ%3D%3D?line=69'>70</a>\u001b[0m         _, predictions \u001b[39m=\u001b[39m torch\u001b[39m.\u001b[39mmax(predictions, \u001b[39m1\u001b[39m)\n\u001b[0;32m---> <a href='vscode-notebook-cell:/Users/scotttw/UCLA/CS%20260C%20Deep%20Learning/CIFAR_CNNs/Experiments.ipynb#X41sZmlsZQ%3D%3D?line=71'>72</a>\u001b[0m         correct_predictions \u001b[39m+\u001b[39m\u001b[39m=\u001b[39m (predictions\u001b[39m==\u001b[39;49mlabel)\u001b[39m.\u001b[39;49msum()\u001b[39m.\u001b[39;49mitem()\n\u001b[1;32m     <a href='vscode-notebook-cell:/Users/scotttw/UCLA/CS%20260C%20Deep%20Learning/CIFAR_CNNs/Experiments.ipynb#X41sZmlsZQ%3D%3D?line=72'>73</a>\u001b[0m         total_predictions \u001b[39m+\u001b[39m\u001b[39m=\u001b[39m predictions\u001b[39m.\u001b[39mshape[\u001b[39m0\u001b[39m]\n\u001b[1;32m     <a href='vscode-notebook-cell:/Users/scotttw/UCLA/CS%20260C%20Deep%20Learning/CIFAR_CNNs/Experiments.ipynb#X41sZmlsZQ%3D%3D?line=74'>75</a>\u001b[0m \u001b[39mreturn\u001b[39;00m correct_predictions \u001b[39m/\u001b[39m total_predictions\n",
      "\u001b[0;31mKeyboardInterrupt\u001b[0m: "
     ]
    }
   ],
   "source": [
    "train_accs, test_accs = train(CIFAR_Medium_BatchNorm_CNN(), 30, 0.05, cifar_train_dl, cifar_test_dl, scheduler=True)\n",
    "plt.plot(train_accs, c='green')\n",
    "plt.plot(test_accs, c='red')\n",
    "plt.show()"
   ]
  },
  {
   "cell_type": "code",
   "execution_count": null,
   "metadata": {},
   "outputs": [],
   "source": [
    "train_accs, test_accs = train(CIFAR_Medium_BatchNorm_CNN(), 30, 0.05, cifar_train_dl, cifar_test_dl, scheduler=False)\n",
    "plt.plot(train_accs, c='green')\n",
    "plt.plot(test_accs, c='red')\n",
    "plt.show()"
   ]
  },
  {
   "cell_type": "code",
   "execution_count": null,
   "metadata": {},
   "outputs": [],
   "source": [
    "train_accs, test_accs = train(CIFAR_Medium_BatchNorm_LinearPlus_CNN(), 30, 0.05, cifar_train_dl, cifar_test_dl, scheduler=True)\n",
    "plt.plot(train_accs, c='green')\n",
    "plt.plot(test_accs, c='red')\n",
    "plt.show()"
   ]
  },
  {
   "cell_type": "code",
   "execution_count": null,
   "metadata": {},
   "outputs": [],
   "source": [
    "train(CIFAR_High_CNN(), 30, 0.05, cifar_train_dl, cifar_test_dl, scheduler=True)"
   ]
  },
  {
   "cell_type": "code",
   "execution_count": 30,
   "metadata": {},
   "outputs": [
    {
     "name": "stderr",
     "output_type": "stream",
     "text": [
      "Training: 100%|██████████| 30/30 [12:33<00:00, 25.12s/epoch]\n"
     ]
    },
    {
     "name": "stdout",
     "output_type": "stream",
     "text": [
      "Model achieved final test accuracy of 0.7707\n",
      "Training took 753.68 seconds.\n"
     ]
    },
    {
     "data": {
      "text/plain": [
       "[<matplotlib.lines.Line2D at 0x2e77221d0>]"
      ]
     },
     "execution_count": 30,
     "metadata": {},
     "output_type": "execute_result"
    },
    {
     "data": {
      "image/png": "[encoded data removed]",
      "text/plain": [
       "<Figure size 432x288 with 1 Axes>"
      ]
     },
     "metadata": {
      "needs_background": "light"
     },
     "output_type": "display_data"
    }
   ],
   "source": [
    "train_accs, test_accs = train(ConvNet(), 30, 0.05, cifar_train_dl, cifar_test_dl, scheduler=True)\n",
    "plt.plot(train_accs, c='green')\n",
    "plt.plot(test_accs, c='red')"
   ]
  },
  {
   "cell_type": "code",
   "execution_count": null,
   "metadata": {},
   "outputs": [],
   "source": [
    "t1, v1 = train(ConvNet(), 50, 0.05, cifar_train_dl, cifar_test_dl, scheduler=True)\n",
    "t2, v2 = train(ConvNet(), 50, 0.05, cifar_train_dl, cifar_test_dl, scheduler=False)\n",
    "t3, v3 = train(ConvNet(), 50, 0.001, cifar_train_dl, cifar_test_dl, scheduler=True, optimizer=\"Adam\")\n",
    "t4, v4 = train(ConvNet(), 50, 0.001, cifar_train_dl, cifar_test_dl, scheduler=False, optimizer=\"Adam\")\n",
    "t5, v5 = train(ConvNet(), 50, 0.01, cifar_train_dl, cifar_test_dl, scheduler=True, optimizer=\"Adam\")\n",
    "t6, v6 = train(ConvNet(), 50, 0.01, cifar_train_dl, cifar_test_dl, scheduler=False, optimizer=\"Adam\")"
   ]
  },
  {
   "cell_type": "code",
   "execution_count": null,
   "metadata": {},
   "outputs": [],
   "source": [
    "train(ConvNet_Simple(), 30, 0.05, cifar_train_dl, cifar_test_dl, scheduler=True)\n",
    "train(ConvNet_Simple(), 30, 0.05, cifar_train_dl, cifar_test_dl, scheduler=False)"
   ]
  }
 ],
 "metadata": {
  "kernelspec": {
   "display_name": "ML",
   "language": "python",
   "name": "ml"
  },
  "language_info": {
   "codemirror_mode": {
    "name": "ipython",
    "version": 3
   },
   "file_extension": ".py",
   "mimetype": "text/x-python",
   "name": "python",
   "nbconvert_exporter": "python",
   "pygments_lexer": "ipython3",
   "version": "3.10.4"
  },
  "orig_nbformat": 4
 },
 "nbformat": 4,
 "nbformat_minor": 2
}
