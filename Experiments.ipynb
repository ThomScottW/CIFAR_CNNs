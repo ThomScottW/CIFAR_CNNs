{
 "cells": [
  {
   "cell_type": "code",
   "execution_count": 2,
   "metadata": {},
   "outputs": [],
   "source": [
    "import torch\n",
    "import torch.nn as nn\n",
    "import torchvision\n",
    "import torchvision.transforms as transforms\n",
    "import time"
   ]
  },
  {
   "attachments": {},
   "cell_type": "markdown",
   "metadata": {},
   "source": [
    "#### Setup Device"
   ]
  },
  {
   "cell_type": "code",
   "execution_count": 3,
   "metadata": {},
   "outputs": [
    {
     "name": "stdout",
     "output_type": "stream",
     "text": [
      "mps\n"
     ]
    }
   ],
   "source": [
    "if torch.backends.mps.is_available():\n",
    "    device = \"mps\"\n",
    "elif torch.cuda.is_available():\n",
    "    device = \"cuda\"\n",
    "else:\n",
    "    device = \"cpu\"\n",
    "\n",
    "print(device)"
   ]
  },
  {
   "attachments": {},
   "cell_type": "markdown",
   "metadata": {},
   "source": [
    "#### Load and Normalize CIFAR-10 Data"
   ]
  },
  {
   "cell_type": "code",
   "execution_count": 4,
   "metadata": {},
   "outputs": [
    {
     "name": "stdout",
     "output_type": "stream",
     "text": [
      "Files already downloaded and verified\n",
      "Files already downloaded and verified\n"
     ]
    }
   ],
   "source": [
    "batch_size = 256\n",
    "\n",
    "mean = torch.tensor([0.4914, 0.4822, 0.4465])\n",
    "std = torch.tensor([0.2009, 0.2009, 0.2009])\n",
    "transform = transforms.Compose([\n",
    "    transforms.ToTensor(), \n",
    "    transforms.Normalize(mean = mean, std = std)])\n",
    "cifar_train_data = torchvision.datasets.CIFAR10('./data', train=True, download=True, transform=transform)\n",
    "cifar_test_data = torchvision.datasets.CIFAR10('./data', train=False, download=True, transform=transform)\n",
    "\n",
    "cifar_train_dl = torch.utils.data.DataLoader(cifar_train_data, batch_size=batch_size, shuffle=True)\n",
    "cifar_test_dl = torch.utils.data.DataLoader(cifar_test_data, batch_size=batch_size)"
   ]
  },
  {
   "attachments": {},
   "cell_type": "markdown",
   "metadata": {},
   "source": [
    "## Define Convolutional Neural Networks"
   ]
  },
  {
   "attachments": {},
   "cell_type": "markdown",
   "metadata": {},
   "source": [
    "### Baseline"
   ]
  },
  {
   "cell_type": "code",
   "execution_count": 34,
   "metadata": {},
   "outputs": [],
   "source": [
    "class BaselineCNN(nn.Module):\n",
    "    def __init__(self):\n",
    "        super().__init__()\n",
    "        self.features = nn.Sequential(\n",
    "            nn.Conv2d(in_channels=3, out_channels=32, kernel_size=(3, 3), stride=1, padding=1),\n",
    "            nn.ReLU(),\n",
    "            nn.MaxPool2d(kernel_size=(2, 2), stride=2, padding=0),\n",
    "            nn.Conv2d(in_channels=32, out_channels=64, kernel_size=(3, 3), stride=1, padding=1),\n",
    "            nn.ReLU(),\n",
    "            nn.MaxPool2d(kernel_size=(2, 2), stride=2, padding=0),\n",
    "            nn.Conv2d(in_channels=64, out_channels=128, kernel_size=(3, 3), stride=1, padding=1),\n",
    "            nn.ReLU(),\n",
    "            nn.AvgPool2d(kernel_size=(2, 2), stride=2, padding=0),\n",
    "            nn.Flatten()\n",
    "        )\n",
    "        self.classifier = nn.Linear(in_features=128*4*4, out_features=10)\n",
    "    \n",
    "    def forward(self, x):\n",
    "        x = self.features(x)\n",
    "        x = self.classifier(x)\n",
    "        return x"
   ]
  },
  {
   "cell_type": "code",
   "execution_count": null,
   "metadata": {},
   "outputs": [],
   "source": [
    "class ConvNet_Simple(nn.Module):\n",
    "    def __init__(self):\n",
    "        super().__init__()\n",
    "        self.features = nn.Sequential(\n",
    "            nn.Conv2d(in_channels=3, out_channels=128, kernel_size=3, stride=1, padding=3),\n",
    "            nn.GroupNorm(128, 128, eps=1e-05, affine=True),\n",
    "            nn.ReLU(),\n",
    "            nn.AvgPool2d(kernel_size=2, stride=2, padding=0),\n",
    "            nn.Conv2d(in_channels=128, out_channels=128, kernel_size=3, stride=1, padding=1),\n",
    "            nn.GroupNorm(128, 128, eps=1e-05, affine=True),\n",
    "            nn.ReLU(),\n",
    "            nn.AvgPool2d(kernel_size=2, stride=2, padding=0),\n",
    "            nn.Conv2d(in_channels=128, out_channels=128, kernel_size=3, stride=1, padding=1),\n",
    "            nn.GroupNorm(128, 128, eps=1e-05, affine=True),\n",
    "            nn.ReLU(),\n",
    "            nn.AvgPool2d(kernel_size=2, stride=2, padding=0)\n",
    "        )\n",
    "        self.classifier = nn.Linear(in_features=2048, out_features=10, bias=True)\n",
    "\n",
    "    def forward(self, x):\n",
    "            x = self.features(x)\n",
    "            x = x.view(x.shape[0], -1)\n",
    "            x = self.classifier(x)\n",
    "            return x"
   ]
  },
  {
   "attachments": {},
   "cell_type": "markdown",
   "metadata": {},
   "source": [
    "### Double Layers"
   ]
  },
  {
   "cell_type": "code",
   "execution_count": 36,
   "metadata": {},
   "outputs": [],
   "source": [
    "class BaselineCNN_DL(nn.Module):\n",
    "    def __init__(self):\n",
    "        super().__init__()\n",
    "        self.features = nn.Sequential(\n",
    "            nn.Conv2d(in_channels=3, out_channels=32, kernel_size=(3, 3), stride=1, padding=1),\n",
    "            nn.ReLU(),\n",
    "            nn.Conv2d(in_channels=32, out_channels=32, kernel_size=(3, 3), stride=1, padding=1),\n",
    "            nn.ReLU(),\n",
    "            nn.MaxPool2d(kernel_size=(2, 2), stride=2, padding=0),\n",
    "            nn.Conv2d(in_channels=32, out_channels=64, kernel_size=(3, 3), stride=1, padding=1),\n",
    "            nn.ReLU(),\n",
    "            nn.Conv2d(in_channels=64, out_channels=64, kernel_size=(3, 3), stride=1, padding=1),\n",
    "            nn.ReLU(),\n",
    "            nn.MaxPool2d(kernel_size=(2, 2), stride=2, padding=0),\n",
    "            nn.Conv2d(in_channels=64, out_channels=128, kernel_size=(3, 3), stride=1, padding=1),\n",
    "            nn.ReLU(),\n",
    "            nn.Conv2d(in_channels=128, out_channels=128, kernel_size=(3, 3), stride=1, padding=1),\n",
    "            nn.ReLU(),\n",
    "            nn.AvgPool2d(kernel_size=(2, 2), stride=2, padding=0),\n",
    "            nn.Flatten()\n",
    "        )\n",
    "        self.classifier = nn.Linear(in_features=128*4*4, out_features=10)\n",
    "    \n",
    "    def forward(self, x):\n",
    "        x = self.features(x)\n",
    "        x = self.classifier(x)\n",
    "        return x"
   ]
  },
  {
   "attachments": {},
   "cell_type": "markdown",
   "metadata": {},
   "source": [
    "### Dropout Regularization"
   ]
  },
  {
   "cell_type": "code",
   "execution_count": 44,
   "metadata": {},
   "outputs": [],
   "source": [
    "class CNN_Dropout(nn.Module):\n",
    "    def __init__(self):\n",
    "        super().__init__()\n",
    "        self.features = nn.Sequential(\n",
    "            nn.Conv2d(in_channels=3, out_channels=32, kernel_size=(3, 3), stride=1, padding=1),\n",
    "            nn.ReLU(),\n",
    "            nn.Conv2d(in_channels=32, out_channels=32, kernel_size=(3, 3), stride=1, padding=1),\n",
    "            nn.ReLU(),\n",
    "            nn.MaxPool2d(kernel_size=(2, 2), stride=2, padding=0),\n",
    "            nn.Dropout(0.2),\n",
    "            nn.Conv2d(in_channels=32, out_channels=64, kernel_size=(3, 3), stride=1, padding=1),\n",
    "            nn.ReLU(),\n",
    "            nn.Conv2d(in_channels=64, out_channels=64, kernel_size=(3, 3), stride=1, padding=1),\n",
    "            nn.ReLU(),\n",
    "            nn.MaxPool2d(kernel_size=(2, 2), stride=2, padding=0),\n",
    "            nn.Dropout(0.3),\n",
    "            nn.Conv2d(in_channels=64, out_channels=128, kernel_size=(3, 3), stride=1, padding=1),\n",
    "            nn.ReLU(),\n",
    "            nn.Conv2d(in_channels=128, out_channels=128, kernel_size=(3, 3), stride=1, padding=1),\n",
    "            nn.ReLU(),\n",
    "            nn.AvgPool2d(kernel_size=(2, 2), stride=2, padding=0),\n",
    "            nn.Dropout(0.4),\n",
    "            nn.Flatten()\n",
    "        )\n",
    "        self.classifier = nn.Linear(in_features=128*4*4, out_features=10)\n",
    "    \n",
    "    def forward(self, x):\n",
    "        x = self.features(x)\n",
    "        x = self.classifier(x)\n",
    "        return x"
   ]
  },
  {
   "attachments": {},
   "cell_type": "markdown",
   "metadata": {},
   "source": [
    "### BatchNorm"
   ]
  },
  {
   "cell_type": "code",
   "execution_count": 45,
   "metadata": {},
   "outputs": [],
   "source": [
    "class CNN_BN(nn.Module):\n",
    "    def __init__(self):\n",
    "        super().__init__()\n",
    "        self.features = nn.Sequential(\n",
    "            nn.Conv2d(in_channels=3, out_channels=32, kernel_size=(3, 3), stride=1, padding=1),\n",
    "            nn.ReLU(),\n",
    "            nn.BatchNorm2d(32),\n",
    "            nn.Conv2d(in_channels=32, out_channels=32, kernel_size=(3, 3), stride=1, padding=1),\n",
    "            nn.ReLU(),\n",
    "            nn.BatchNorm2d(32),\n",
    "            nn.MaxPool2d(kernel_size=(2, 2), stride=2, padding=0),\n",
    "            nn.Dropout(0.2),\n",
    "            nn.Conv2d(in_channels=32, out_channels=64, kernel_size=(3, 3), stride=1, padding=1),\n",
    "            nn.ReLU(),\n",
    "            nn.BatchNorm2d(64),\n",
    "            nn.Conv2d(in_channels=64, out_channels=64, kernel_size=(3, 3), stride=1, padding=1),\n",
    "            nn.ReLU(),\n",
    "            nn.BatchNorm2d(64),\n",
    "            nn.MaxPool2d(kernel_size=(2, 2), stride=2, padding=0),\n",
    "            nn.Dropout(0.3),\n",
    "            nn.Conv2d(in_channels=64, out_channels=128, kernel_size=(3, 3), stride=1, padding=1),\n",
    "            nn.ReLU(),\n",
    "            nn.BatchNorm2d(128),\n",
    "            nn.Conv2d(in_channels=128, out_channels=128, kernel_size=(3, 3), stride=1, padding=1),\n",
    "            nn.ReLU(),\n",
    "            nn.BatchNorm2d(128),\n",
    "            nn.AvgPool2d(kernel_size=(2, 2), stride=2, padding=0),\n",
    "            nn.Dropout(0.4),\n",
    "            nn.Flatten()\n",
    "        )\n",
    "        self.classifier = nn.Linear(in_features=128*4*4, out_features=10)\n",
    "    \n",
    "    def forward(self, x):\n",
    "        x = self.features(x)\n",
    "        x = self.classifier(x)\n",
    "        return x"
   ]
  },
  {
   "attachments": {},
   "cell_type": "markdown",
   "metadata": {},
   "source": [
    "### GroupNorm"
   ]
  },
  {
   "cell_type": "code",
   "execution_count": 64,
   "metadata": {},
   "outputs": [],
   "source": [
    "class CNN_GN_Ch(nn.Module):\n",
    "    def __init__(self):\n",
    "        super().__init__()\n",
    "        self.features = nn.Sequential(\n",
    "            nn.Conv2d(in_channels=3, out_channels=32, kernel_size=(3, 3), stride=1, padding=1),\n",
    "            nn.ReLU(),\n",
    "            nn.GroupNorm(32, 32),\n",
    "            nn.Conv2d(in_channels=32, out_channels=32, kernel_size=(3, 3), stride=1, padding=1),\n",
    "            nn.ReLU(),\n",
    "            nn.GroupNorm(32, 32),\n",
    "            nn.MaxPool2d(kernel_size=(2, 2), stride=2, padding=0),\n",
    "            nn.Dropout(0.2),\n",
    "            nn.Conv2d(in_channels=32, out_channels=128, kernel_size=(3, 3), stride=1, padding=1),\n",
    "            nn.ReLU(),\n",
    "            nn.GroupNorm(32, 128),\n",
    "            nn.Conv2d(in_channels=128, out_channels=128, kernel_size=(3, 3), stride=1, padding=1),\n",
    "            nn.ReLU(),\n",
    "            nn.GroupNorm(32, 128),\n",
    "            nn.MaxPool2d(kernel_size=(2, 2), stride=2, padding=0),\n",
    "            nn.Dropout(0.3),\n",
    "            nn.Conv2d(in_channels=128, out_channels=512, kernel_size=(3, 3), stride=1, padding=1),\n",
    "            nn.ReLU(),\n",
    "            nn.GroupNorm(32, 512),\n",
    "            nn.Conv2d(in_channels=512, out_channels=512, kernel_size=(3, 3), stride=1, padding=1),\n",
    "            nn.ReLU(),\n",
    "            nn.GroupNorm(32, 512),\n",
    "            nn.AvgPool2d(kernel_size=(2, 2), stride=2, padding=0),\n",
    "            nn.Dropout(0.4),\n",
    "            nn.Flatten()\n",
    "        )\n",
    "        self.classifier = nn.Linear(in_features=512*4*4, out_features=10)\n",
    "    \n",
    "    def forward(self, x):\n",
    "        x = self.features(x)\n",
    "        x = self.classifier(x)\n",
    "        return x"
   ]
  },
  {
   "attachments": {},
   "cell_type": "markdown",
   "metadata": {},
   "source": [
    "## Scheduler Experiment"
   ]
  },
  {
   "cell_type": "code",
   "execution_count": 5,
   "metadata": {},
   "outputs": [
    {
     "data": {
      "text/plain": [
       "[<matplotlib.lines.Line2D at 0x137099120>]"
      ]
     },
     "execution_count": 5,
     "metadata": {},
     "output_type": "execute_result"
    },
    {
     "data": {
      "image/png": "[encoded data removed]",
      "text/plain": [
       "<Figure size 432x288 with 1 Axes>"
      ]
     },
     "metadata": {
      "needs_background": "light"
     },
     "output_type": "display_data"
    }
   ],
   "source": [
    "import matplotlib.pyplot as plt\n",
    "\n",
    "model = torch.nn.Linear(in_features=10, out_features=10)\n",
    "num_epochs=100\n",
    "lrs = [0] * num_epochs\n",
    "optimizer = torch.optim.Adam(model.parameters(), lr=0.01)\n",
    "scheduler = torch.optim.lr_scheduler.OneCycleLR(optimizer, max_lr=0.001, epochs=num_epochs, steps_per_epoch=1)\n",
    "loss_function = nn.CrossEntropyLoss()\n",
    "\n",
    "for epoch in range(num_epochs):\n",
    "    outputs = model(torch.randn(10, 10))\n",
    "    loss = loss_function(outputs, torch.randint(0, 10, size=(10,)))\n",
    "\n",
    "    optimizer.zero_grad()\n",
    "    loss.backward()\n",
    "    optimizer.step()\n",
    "    scheduler.step()\n",
    "\n",
    "    lrs[epoch] = scheduler.get_last_lr()[0]\n",
    "\n",
    "\n",
    "plt.plot(lrs)"
   ]
  },
  {
   "attachments": {},
   "cell_type": "markdown",
   "metadata": {},
   "source": [
    "## Train and test functions"
   ]
  },
  {
   "cell_type": "code",
   "execution_count": 38,
   "metadata": {},
   "outputs": [],
   "source": [
    "from tqdm import tqdm\n",
    "\n",
    "def train(model, num_epochs, train_dl=cifar_train_dl, test_dl=cifar_test_dl, optimizer=\"SGD\", scheduler=True, verbose=False, patience=4):\n",
    "    model.to(device)\n",
    "\n",
    "    if optimizer == \"SGD\":\n",
    "        lr = 0.05\n",
    "        opt = torch.optim.SGD(model.parameters(), lr=lr, momentum=0.9, weight_decay=1e-4)\n",
    "    else:\n",
    "        lr = 0.001\n",
    "        opt = torch.optim.AdamW(model.parameters(), lr, weight_decay=1e-4)\n",
    "\n",
    "    if scheduler:\n",
    "        scheduler = torch.optim.lr_scheduler.CosineAnnealingLR(opt, T_max=num_epochs)\n",
    "        # scheduler = torch.optim.lr_scheduler.OneCycleLR(opt, max_lr=lr, epochs=num_epochs, steps_per_epoch=1, div_factor=10)\n",
    "\n",
    "    # Classification tasks should use cross entropy\n",
    "    loss_function = nn.CrossEntropyLoss()\n",
    "\n",
    "    test_accuracies = []\n",
    "    train_accuracies = []\n",
    "    best_test_accuracy = 0\n",
    "    best_model_state_dict = None\n",
    "    epochs_until_early_stop = patience\n",
    "\n",
    "    train_start_time = time.time()\n",
    "    epoch_progress_bar = tqdm(range(1, num_epochs + 1), desc=\"Training: \", unit=\"epoch\")\n",
    "    for epoch in epoch_progress_bar:\n",
    "        model.train()\n",
    "        epoch_start_time = time.time()\n",
    "\n",
    "        for X, y in train_dl:\n",
    "            X, y = X.to(device), y.to(device)\n",
    "\n",
    "            predictions = model(X)\n",
    "            loss = loss_function(predictions, y)\n",
    "\n",
    "            opt.zero_grad()\n",
    "            loss.backward()\n",
    "            opt.step()\n",
    "        \n",
    "        if scheduler:\n",
    "            scheduler.step()\n",
    "        \n",
    "        train_accuracy = test(model, train_dl)\n",
    "        test_accuracy = test(model, test_dl)\n",
    "        train_accuracies.append(train_accuracy)\n",
    "        test_accuracies.append(test_accuracy)\n",
    "        if scheduler:\n",
    "            epoch_progress_bar.set_postfix(lr=scheduler.get_last_lr()[0], test_accuracy=test_accuracy)\n",
    "        else:   \n",
    "            epoch_progress_bar.set_postfix(test_accuracy=test_accuracy)\n",
    "        epoch_total_time = time.time() - epoch_start_time\n",
    "        if verbose and epoch % 10 == 0:\n",
    "            print(f\"Epoch {epoch:>03} took {epoch_total_time:.2f}s Test Acc: {test_accuracy:.4f}\")\n",
    "\n",
    "        if test_accuracy > best_test_accuracy:\n",
    "            best_test_accuracy = test_accuracy\n",
    "            best_model_state_dict = model.state_dict()\n",
    "            epochs_until_early_stop = patience\n",
    "        else:\n",
    "            epochs_until_early_stop -= 1\n",
    "            if epochs_until_early_stop == 0:\n",
    "                print('Model failing to improve on test data. Stopping early.')\n",
    "                model.load_state_dict(best_model_state_dict)\n",
    "                break\n",
    "    \n",
    "    total_train_time = time.time() - train_start_time\n",
    "    final_test_accuracy = test(model, test_dl)\n",
    "    \n",
    "    print(f'Model achieved highest test accuracy of {final_test_accuracy:.4f}')\n",
    "    print(f'Training took {total_train_time:.2f} seconds.')\n",
    "\n",
    "    return train_accuracies, test_accuracies\n",
    "\n",
    "def test(model, test_dl):\n",
    "    model.to(device)\n",
    "    model.eval()\n",
    "\n",
    "    correct_predictions = 0\n",
    "    total_predictions = 0\n",
    "    \n",
    "    # Testing, so no gradient computation is needed\n",
    "    with torch.no_grad():\n",
    "        for image, label in test_dl:\n",
    "            image, label = image.to(device), label.to(device)\n",
    "\n",
    "            predictions = model(image)\n",
    "            _, predictions = torch.max(predictions, 1)\n",
    "\n",
    "            correct_predictions += (predictions==label).sum().item()\n",
    "            total_predictions += predictions.shape[0]\n",
    "    \n",
    "    return correct_predictions / total_predictions"
   ]
  },
  {
   "attachments": {},
   "cell_type": "markdown",
   "metadata": {},
   "source": [
    "## Evaluation"
   ]
  },
  {
   "cell_type": "code",
   "execution_count": 22,
   "metadata": {},
   "outputs": [],
   "source": [
    "def plot_accuracy(title: str, training_accuracy: list, testing_accuracy: list) -> None:\n",
    "    plt.title(title)\n",
    "    plt.plot(training_accuracy, c='green')\n",
    "    plt.plot(testing_accuracy, c='red')\n",
    "    plt.show()\n",
    "    "
   ]
  },
  {
   "cell_type": "code",
   "execution_count": 31,
   "metadata": {},
   "outputs": [
    {
     "name": "stderr",
     "output_type": "stream",
     "text": [
      "Training:  36%|███▌      | 18/50 [02:39<04:44,  8.88s/epoch, lr=0.000684, test_accuracy=0.765]\n"
     ]
    },
    {
     "name": "stdout",
     "output_type": "stream",
     "text": [
      "Model failing to improve on test data. Stopping early.\n",
      "Model achieved highest test accuracy of 0.7647\n",
      "Training took 159.85 seconds.\n"
     ]
    },
    {
     "data": {
      "image/png": "[encoded data removed]",
      "text/plain": [
       "<Figure size 432x288 with 1 Axes>"
      ]
     },
     "metadata": {
      "needs_background": "light"
     },
     "output_type": "display_data"
    }
   ],
   "source": [
    "t, v = train(BaselineCNN(), 50, optimizer=\"AdamW\", patience=4)\n",
    "plot_accuracy(\"Baseline CNN\", t, v)"
   ]
  },
  {
   "cell_type": "code",
   "execution_count": 43,
   "metadata": {},
   "outputs": [
    {
     "name": "stderr",
     "output_type": "stream",
     "text": [
      "Training:  46%|████▌     | 23/50 [06:32<07:40, 17.06s/epoch, lr=0.000531, test_accuracy=0.8]  \n"
     ]
    },
    {
     "name": "stdout",
     "output_type": "stream",
     "text": [
      "Model failing to improve on test data. Stopping early.\n",
      "Model achieved highest test accuracy of 0.7997\n",
      "Training took 392.37 seconds.\n"
     ]
    },
    {
     "data": {
      "image/png": "[encoded data removed]",
      "text/plain": [
       "<Figure size 432x288 with 1 Axes>"
      ]
     },
     "metadata": {
      "needs_background": "light"
     },
     "output_type": "display_data"
    }
   ],
   "source": [
    "t, v = train(BaselineCNN_DL(), 50, optimizer=\"AdamW\", patience=4)\n",
    "plot_accuracy(\"Baseline CNN\", t, v)"
   ]
  },
  {
   "cell_type": "code",
   "execution_count": 48,
   "metadata": {},
   "outputs": [
    {
     "name": "stderr",
     "output_type": "stream",
     "text": [
      "Training:  52%|█████▏    | 26/50 [07:31<06:56, 17.37s/epoch, lr=0.0219, test_accuracy=0.855]\n"
     ]
    },
    {
     "name": "stdout",
     "output_type": "stream",
     "text": [
      "Model failing to improve on test data. Stopping early.\n",
      "Model achieved highest test accuracy of 0.8551\n",
      "Training took 451.68 seconds.\n"
     ]
    },
    {
     "data": {
      "image/png": "[encoded data removed]",
      "text/plain": [
       "<Figure size 432x288 with 1 Axes>"
      ]
     },
     "metadata": {
      "needs_background": "light"
     },
     "output_type": "display_data"
    }
   ],
   "source": [
    "t, v = train(CNN_BN(), 50, patience=4)\n",
    "plot_accuracy(\"CNN + BN + Dropout\", t, v)"
   ]
  },
  {
   "cell_type": "code",
   "execution_count": 55,
   "metadata": {},
   "outputs": [
    {
     "name": "stderr",
     "output_type": "stream",
     "text": [
      "Training:  20%|██        | 20/100 [06:07<24:30, 18.38s/epoch, lr=0.000895, test_accuracy=0.854]\n"
     ]
    },
    {
     "name": "stdout",
     "output_type": "stream",
     "text": [
      "Model failing to improve on test data. Stopping early.\n",
      "Model achieved highest test accuracy of 0.8536\n",
      "Training took 367.65 seconds.\n"
     ]
    },
    {
     "data": {
      "image/png": "[encoded data removed]",
      "text/plain": [
       "<Figure size 432x288 with 1 Axes>"
      ]
     },
     "metadata": {
      "needs_background": "light"
     },
     "output_type": "display_data"
    }
   ],
   "source": [
    "t, v = train(CNN_BN(), 100, patience=4, optimizer=\"AdamW\")\n",
    "plot_accuracy(\"CNN + BN + Dropout\", t, v)"
   ]
  },
  {
   "cell_type": "code",
   "execution_count": 61,
   "metadata": {},
   "outputs": [
    {
     "name": "stderr",
     "output_type": "stream",
     "text": [
      "Training:  40%|████      | 40/100 [17:29<26:14, 26.25s/epoch, lr=0.000639, test_accuracy=0.852]\n"
     ]
    },
    {
     "name": "stdout",
     "output_type": "stream",
     "text": [
      "Model failing to improve on test data. Stopping early.\n",
      "Model achieved highest test accuracy of 0.8523\n",
      "Training took 1050.00 seconds.\n"
     ]
    },
    {
     "data": {
      "image/png": "[encoded data removed]",
      "text/plain": [
       "<Figure size 432x288 with 1 Axes>"
      ]
     },
     "metadata": {
      "needs_background": "light"
     },
     "output_type": "display_data"
    }
   ],
   "source": [
    "t, v = train(CNN_GN(), 100, patience=4, optimizer=\"AdamW\")\n",
    "plot_accuracy(\"CNN + GN + Dropout\", t, v)"
   ]
  },
  {
   "cell_type": "code",
   "execution_count": 65,
   "metadata": {},
   "outputs": [
    {
     "name": "stderr",
     "output_type": "stream",
     "text": [
      "Training:  17%|█▋        | 17/100 [32:08<2:36:54, 113.43s/epoch, lr=0.000922, test_accuracy=0.848]\n"
     ]
    },
    {
     "name": "stdout",
     "output_type": "stream",
     "text": [
      "Model failing to improve on test data. Stopping early.\n",
      "Model achieved highest test accuracy of 0.8481\n",
      "Training took 1928.37 seconds.\n"
     ]
    },
    {
     "data": {
      "image/png": "[encoded data removed]",
      "text/plain": [
       "<Figure size 432x288 with 1 Axes>"
      ]
     },
     "metadata": {
      "needs_background": "light"
     },
     "output_type": "display_data"
    }
   ],
   "source": [
    "t, v = train(CNN_GN_Ch(), 100, patience=4, optimizer=\"AdamW\")\n",
    "plot_accuracy(\"CNN + GN + Dropout\", t, v)"
   ]
  },
  {
   "cell_type": "code",
   "execution_count": null,
   "metadata": {},
   "outputs": [],
   "source": []
  }
 ],
 "metadata": {
  "kernelspec": {
   "display_name": "ML",
   "language": "python",
   "name": "ml"
  },
  "language_info": {
   "codemirror_mode": {
    "name": "ipython",
    "version": 3
   },
   "file_extension": ".py",
   "mimetype": "text/x-python",
   "name": "python",
   "nbconvert_exporter": "python",
   "pygments_lexer": "ipython3",
   "version": "3.10.4"
  },
  "orig_nbformat": 4
 },
 "nbformat": 4,
 "nbformat_minor": 2
}
